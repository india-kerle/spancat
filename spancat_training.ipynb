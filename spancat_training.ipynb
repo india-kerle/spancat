{
 "cells": [
  {
   "cell_type": "markdown",
   "id": "83467139",
   "metadata": {},
   "source": [
    "Welcome to the code behind Nesta's medium article, \"Training spaCy's spancat component in Python\"! 👋\n",
    "\n",
    "Although spaCy pushes for config-based training, sometimes you simply want to experiment with a component in a jupyter notebook without the headache (and commitment) of setting everything up. And although there is plenty online on how to train a custom NER model in spaCy, there is virtually nothing on how to do the same for a custom spancat model.\n",
    "\n",
    "Training a custom spancat model looks very similar to training a custom NER model but has several key differences including:\n",
    "\n",
    "1. the training data needs to be in a different format; \n",
    "2. you must convert your training data to a list of spaCy Examples to train the model;\n",
    "3. you access the spans and span-level confidence scores differently.\n",
    "\n",
    "This notebook will walk you through training a custom spancat model."
   ]
  },
  {
   "cell_type": "markdown",
   "id": "4454f467",
   "metadata": {},
   "source": [
    "#### 0. Load Libraries and parameters\n",
    "let's first import the libraries and parameters we will need to run this notebook."
   ]
  },
  {
   "cell_type": "code",
   "execution_count": 5,
   "id": "162d1d6a",
   "metadata": {},
   "outputs": [],
   "source": [
    "import os \n",
    "import spacy\n",
    "import pandas as pd\n",
    "import re\n",
    "from spacy import displacy\n",
    "\n",
    "import random\n",
    "from spacy.util import minibatch, compounding\n",
    "from spacy.training import Example\n",
    "from tqdm import tqdm\n",
    "from typing import List\n",
    "from spacy.pipeline.spancat import DEFAULT_SPANCAT_MODEL"
   ]
  },
  {
   "cell_type": "markdown",
   "id": "5b71ab98",
   "metadata": {},
   "source": [
    "we're going to instantiate a blank spaCy object and name the key to store our labelled spans \"sc\":"
   ]
  },
  {
   "cell_type": "code",
   "execution_count": 6,
   "id": "5ed27298",
   "metadata": {},
   "outputs": [],
   "source": [
    "#instantiate blank spaCy object\n",
    "nlp = spacy.blank('en')\n",
    "#define your span key name\n",
    "span_key = \"sc\""
   ]
  },
  {
   "cell_type": "markdown",
   "id": "702fef01",
   "metadata": {},
   "source": [
    "#### 1. Load Data\n",
    "Once we've loaded the relevant libraries and parameters, lets download and clean up our data. The README.md tells you how to download the data 💾.\n",
    "\n",
    "We want to extract people, organisation and locations tags. So, we can just replace the other tags in the data we don't care about with 'O'. "
   ]
  },
  {
   "cell_type": "code",
   "execution_count": 11,
   "id": "791cdc32",
   "metadata": {},
   "outputs": [],
   "source": [
    "#load the data and fill nans with sentence #s\n",
    "ner_data = (pd.read_csv(\"data.csv\", encoding='ISO-8859-1')\n",
    "            .fillna(method='ffill'))\n",
    "\n",
    "#replace tags we don't care about with 'O'\n",
    "ents_to_replace = ['tim', 'gpe', 'art', 'eve', 'nat']\n",
    "bad_ents = []\n",
    "for ent in list(set(ner_data.Tag)):\n",
    "    if any(ent.endswith(e) for e in ents_to_replace):\n",
    "        bad_ents.append(ent)\n",
    "        \n",
    "ner_data = ner_data.replace(bad_ents, 'O')"
   ]
  },
  {
   "cell_type": "markdown",
   "id": "96c5349a",
   "metadata": {},
   "source": [
    "#### 2. Format data for spaCy\n",
    "Now that we've loaded and replaced the non-relevant tags with 'O', let's format the data in a way that spaCy can handle. We will need to get the start and end of spans in the text. \n",
    "\n",
    "We will do this with the get_span_indx function."
   ]
  },
  {
   "cell_type": "code",
   "execution_count": 12,
   "id": "9956f6db",
   "metadata": {},
   "outputs": [],
   "source": [
    "def get_span_indx(\n",
    "    labels: List[str],\n",
    "    words: List[str],\n",
    "    sentence: str\n",
    ") -> List[tuple]:\n",
    "    \"\"\"Gets span starts and ends for Spacy spancat component.\n",
    "        \n",
    "        Returns list of tuples where the first element of the \n",
    "        tuple is the span start, the second element of the tuple\n",
    "        is the span end and the third element of the tuple is\n",
    "        the span category. \n",
    "    \"\"\"\n",
    "    label_indx = []\n",
    "    temp_list = []\n",
    "\n",
    "    for i, l in enumerate(labels):\n",
    "        if l != 'O':\n",
    "            temp_list.append(i)\n",
    "        else:\n",
    "            label_indx.append(temp_list)\n",
    "            temp_list = []    \n",
    "        if i == len(labels) - 1:\n",
    "            label_indx.append(temp_list)\n",
    "\n",
    "    clean_label_indx = [x for x in label_indx if len(x) > 0]\n",
    "\n",
    "    spans = []\n",
    "    for indx in clean_label_indx:\n",
    "        if len(indx) == 1:\n",
    "            span = words[indx[0]]\n",
    "            label = labels[indx[0]].split('-')[-1].upper()\n",
    "        else:\n",
    "            span = ' '.join([words[i] for i in indx])  \n",
    "            label = [labels[i].split('-')[-1].upper() for i in indx][0]\n",
    "        for m in re.finditer(span, sentence):\n",
    "            spans.append((m.start(), m.end(), label))\n",
    "    \n",
    "    return spans "
   ]
  },
  {
   "cell_type": "markdown",
   "id": "2a59f7f9",
   "metadata": {},
   "source": [
    "Once we've written a function to extract span start and end indices, we will format the training data for spaCy such that:\n",
    "\n",
    "```\n",
    "  ('Thousands of demonstrators have marched through London to protest the war in Iraq and demand the withdrawal of British troops from that country',\n",
    "  {'spans': {'sc': [(48, 54, 'GEO'), (77, 81, 'GEO')]}})\n",
    "```\n",
    "\n",
    "Where the first element of the tuple is the text and the second element of the tuple is a nested dictionary where the values of the span_key (in this instance, \"sc\") is a list of tuples containing the span character start, span character end and span category. \n",
    "\n",
    "Finally, we convert this data structure into a spaCy Example object."
   ]
  },
  {
   "cell_type": "code",
   "execution_count": 13,
   "id": "25d40a05",
   "metadata": {},
   "outputs": [],
   "source": [
    "#Create spaCy compliant training data \n",
    "train_data = []\n",
    "for sent, sent_info in ner_data.groupby(\"Sentence #\"):\n",
    "    words = list(sent_info[\"Word\"])\n",
    "    #convert words to sentence\n",
    "    sentence = re.sub(r'\\s([?.!\"](?:\\s|$))', r'\\1', \" \".join(words))\n",
    "    #get labels\n",
    "    labels = list(sent_info['Tag'])\n",
    "    #identify token span start, span ends and span category\n",
    "    try:\n",
    "        span_ents = get_span_indx(labels, words, sentence)\n",
    "    except:\n",
    "    #ignore special characters that mess up regex matching\n",
    "        pass\n",
    "    #create spaCy compliant spans[span_key] dict\n",
    "    annotation = {'spans':{span_key: [(span_ent[0], span_ent[1], span_ent[2]) for span_ent in span_ents]}}\n",
    "    #convert sentence and annotation into spaCy example\n",
    "    train_data.append(Example.from_dict(nlp.make_doc(sentence), annotation))"
   ]
  },
  {
   "cell_type": "markdown",
   "id": "51446a0a",
   "metadata": {},
   "source": [
    "#### 3. Train spancat component with labelled entities\n",
    "\n",
    "Now that we've formatted the training data in such a way to be able to train the spancat component, let's instantiate a blank spaCy object and add our labels to the component 🏷️."
   ]
  },
  {
   "cell_type": "code",
   "execution_count": 14,
   "id": "d1788095",
   "metadata": {},
   "outputs": [],
   "source": [
    "#spancat config \n",
    "config = {\n",
    "    #minimum confidence threshold \n",
    "    \"threshold\": 0.5,\n",
    "    #span key \n",
    "    \"spans_key\": span_key,\n",
    "    \"max_positive\": None,\n",
    "    \"model\": DEFAULT_SPANCAT_MODEL,\n",
    "    #our suggester is fixed n-gram length of up to 3 tokens\n",
    "    \"suggester\": {\"@misc\": \"spacy.ngram_suggester.v1\", \"sizes\": [1, 2, 3]},\n",
    "}\n",
    "#add spancat component to nlp object\n",
    "nlp.add_pipe(\"spancat\", config=config)\n",
    "#get spancat component \n",
    "span=nlp.get_pipe('spancat')\n",
    "\n",
    "#Add labels to spancat component \n",
    "for label in ('GEO', 'PER', 'ORG'):\n",
    "    span.add_label(label)"
   ]
  },
  {
   "cell_type": "markdown",
   "id": "bde47ed9",
   "metadata": {},
   "source": [
    "Now that we've done that, let's get the pipe we want to train on, initialise the spacy object and create an optimizer."
   ]
  },
  {
   "cell_type": "code",
   "execution_count": 15,
   "id": "97c82869",
   "metadata": {},
   "outputs": [],
   "source": [
    "#get pipe you want to train on \n",
    "pipe_exceptions = [\"spancat\"]\n",
    "unaffected_pipes = [pipe for pipe in nlp.pipe_names if pipe not in pipe_exceptions]\n",
    "\n",
    "# initialise spacy object \n",
    "nlp.initialize()\n",
    "sgd = nlp.create_optimizer()"
   ]
  },
  {
   "cell_type": "markdown",
   "id": "70008ad9",
   "metadata": {},
   "source": [
    "...and let the training begin! ⏲️"
   ]
  },
  {
   "cell_type": "code",
   "execution_count": 12,
   "id": "8c940c55",
   "metadata": {},
   "outputs": [
    {
     "name": "stderr",
     "output_type": "stream",
     "text": [
      "  3%|█▎                                       | 1/30 [03:52<1:52:13, 232.19s/it]"
     ]
    },
    {
     "name": "stdout",
     "output_type": "stream",
     "text": [
      "epoch: 0 Losses: {'spancat': 23819.832373756915}\n"
     ]
    },
    {
     "name": "stderr",
     "output_type": "stream",
     "text": [
      "\r",
      "  7%|██▋                                      | 2/30 [07:45<1:48:40, 232.88s/it]"
     ]
    },
    {
     "name": "stdout",
     "output_type": "stream",
     "text": [
      "epoch: 1 Losses: {'spancat': 17845.14417686942}\n"
     ]
    },
    {
     "name": "stderr",
     "output_type": "stream",
     "text": [
      "\r",
      " 10%|████                                     | 3/30 [11:37<1:44:40, 232.61s/it]"
     ]
    },
    {
     "name": "stdout",
     "output_type": "stream",
     "text": [
      "epoch: 2 Losses: {'spancat': 16125.311203195335}\n"
     ]
    },
    {
     "name": "stderr",
     "output_type": "stream",
     "text": [
      "\r",
      " 13%|█████▍                                   | 4/30 [15:31<1:40:56, 232.95s/it]"
     ]
    },
    {
     "name": "stdout",
     "output_type": "stream",
     "text": [
      "epoch: 3 Losses: {'spancat': 14996.864675723875}\n"
     ]
    },
    {
     "name": "stderr",
     "output_type": "stream",
     "text": [
      "\r",
      " 17%|██████▊                                  | 5/30 [19:25<1:37:14, 233.36s/it]"
     ]
    },
    {
     "name": "stdout",
     "output_type": "stream",
     "text": [
      "epoch: 4 Losses: {'spancat': 14163.882134490937}\n"
     ]
    },
    {
     "name": "stderr",
     "output_type": "stream",
     "text": [
      "\r",
      " 20%|████████▏                                | 6/30 [23:22<1:33:50, 234.61s/it]"
     ]
    },
    {
     "name": "stdout",
     "output_type": "stream",
     "text": [
      "epoch: 5 Losses: {'spancat': 13418.770895299465}\n"
     ]
    },
    {
     "name": "stderr",
     "output_type": "stream",
     "text": [
      "\r",
      " 23%|█████████▌                               | 7/30 [27:17<1:30:00, 234.79s/it]"
     ]
    },
    {
     "name": "stdout",
     "output_type": "stream",
     "text": [
      "epoch: 6 Losses: {'spancat': 12951.496103297977}\n"
     ]
    },
    {
     "name": "stderr",
     "output_type": "stream",
     "text": [
      "\r",
      " 27%|██████████▉                              | 8/30 [31:11<1:25:56, 234.40s/it]"
     ]
    },
    {
     "name": "stdout",
     "output_type": "stream",
     "text": [
      "epoch: 7 Losses: {'spancat': 12407.294817013433}\n"
     ]
    },
    {
     "name": "stderr",
     "output_type": "stream",
     "text": [
      "\r",
      " 30%|████████████▎                            | 9/30 [35:04<1:21:53, 233.98s/it]"
     ]
    },
    {
     "name": "stdout",
     "output_type": "stream",
     "text": [
      "epoch: 8 Losses: {'spancat': 11920.983098373748}\n"
     ]
    },
    {
     "name": "stderr",
     "output_type": "stream",
     "text": [
      "\r",
      " 33%|█████████████▎                          | 10/30 [38:57<1:17:57, 233.90s/it]"
     ]
    },
    {
     "name": "stdout",
     "output_type": "stream",
     "text": [
      "epoch: 9 Losses: {'spancat': 11526.122606375488}\n"
     ]
    },
    {
     "name": "stderr",
     "output_type": "stream",
     "text": [
      "\r",
      " 37%|██████████████▋                         | 11/30 [42:52<1:14:06, 234.01s/it]"
     ]
    },
    {
     "name": "stdout",
     "output_type": "stream",
     "text": [
      "epoch: 10 Losses: {'spancat': 11231.918217996834}\n"
     ]
    },
    {
     "name": "stderr",
     "output_type": "stream",
     "text": [
      "\r",
      " 40%|████████████████                        | 12/30 [46:46<1:10:12, 234.05s/it]"
     ]
    },
    {
     "name": "stdout",
     "output_type": "stream",
     "text": [
      "epoch: 11 Losses: {'spancat': 10934.958683155586}\n"
     ]
    },
    {
     "name": "stderr",
     "output_type": "stream",
     "text": [
      "\r",
      " 43%|█████████████████▎                      | 13/30 [50:41<1:06:25, 234.46s/it]"
     ]
    },
    {
     "name": "stdout",
     "output_type": "stream",
     "text": [
      "epoch: 12 Losses: {'spancat': 10697.222331435423}\n"
     ]
    },
    {
     "name": "stderr",
     "output_type": "stream",
     "text": [
      "\r",
      " 47%|██████████████████▋                     | 14/30 [54:36<1:02:34, 234.65s/it]"
     ]
    },
    {
     "name": "stdout",
     "output_type": "stream",
     "text": [
      "epoch: 13 Losses: {'spancat': 10371.370365341427}\n"
     ]
    },
    {
     "name": "stderr",
     "output_type": "stream",
     "text": [
      "\r",
      " 50%|█████████████████████                     | 15/30 [58:30<58:33, 234.21s/it]"
     ]
    },
    {
     "name": "stdout",
     "output_type": "stream",
     "text": [
      "epoch: 14 Losses: {'spancat': 10129.045628480642}\n"
     ]
    },
    {
     "name": "stderr",
     "output_type": "stream",
     "text": [
      "\r",
      " 53%|█████████████████████▎                  | 16/30 [1:02:23<54:36, 234.06s/it]"
     ]
    },
    {
     "name": "stdout",
     "output_type": "stream",
     "text": [
      "epoch: 15 Losses: {'spancat': 9980.203197981959}\n"
     ]
    },
    {
     "name": "stderr",
     "output_type": "stream",
     "text": [
      "\r",
      " 57%|██████████████████████▋                 | 17/30 [1:06:16<50:39, 233.80s/it]"
     ]
    },
    {
     "name": "stdout",
     "output_type": "stream",
     "text": [
      "epoch: 16 Losses: {'spancat': 9721.756982092862}\n"
     ]
    },
    {
     "name": "stderr",
     "output_type": "stream",
     "text": [
      "\r",
      " 60%|████████████████████████                | 18/30 [1:10:10<46:43, 233.63s/it]"
     ]
    },
    {
     "name": "stdout",
     "output_type": "stream",
     "text": [
      "epoch: 17 Losses: {'spancat': 9501.349641645858}\n"
     ]
    },
    {
     "name": "stderr",
     "output_type": "stream",
     "text": [
      "\r",
      " 63%|█████████████████████████▎              | 19/30 [1:14:03<42:47, 233.39s/it]"
     ]
    },
    {
     "name": "stdout",
     "output_type": "stream",
     "text": [
      "epoch: 18 Losses: {'spancat': 9318.827465295537}\n"
     ]
    },
    {
     "name": "stderr",
     "output_type": "stream",
     "text": [
      "\r",
      " 67%|██████████████████████████▋             | 20/30 [1:17:58<39:00, 234.03s/it]"
     ]
    },
    {
     "name": "stdout",
     "output_type": "stream",
     "text": [
      "epoch: 19 Losses: {'spancat': 9166.11591950753}\n"
     ]
    },
    {
     "name": "stderr",
     "output_type": "stream",
     "text": [
      "\r",
      " 70%|████████████████████████████            | 21/30 [1:21:53<35:08, 234.30s/it]"
     ]
    },
    {
     "name": "stdout",
     "output_type": "stream",
     "text": [
      "epoch: 20 Losses: {'spancat': 9001.56578258684}\n"
     ]
    },
    {
     "name": "stderr",
     "output_type": "stream",
     "text": [
      "\r",
      " 73%|█████████████████████████████▎          | 22/30 [1:25:48<31:15, 234.45s/it]"
     ]
    },
    {
     "name": "stdout",
     "output_type": "stream",
     "text": [
      "epoch: 21 Losses: {'spancat': 8874.431672896259}\n"
     ]
    },
    {
     "name": "stderr",
     "output_type": "stream",
     "text": [
      "\r",
      " 77%|██████████████████████████████▋         | 23/30 [1:29:44<27:25, 235.01s/it]"
     ]
    },
    {
     "name": "stdout",
     "output_type": "stream",
     "text": [
      "epoch: 22 Losses: {'spancat': 8765.872489455149}\n"
     ]
    },
    {
     "name": "stderr",
     "output_type": "stream",
     "text": [
      "\r",
      " 80%|████████████████████████████████        | 24/30 [1:33:40<23:31, 235.28s/it]"
     ]
    },
    {
     "name": "stdout",
     "output_type": "stream",
     "text": [
      "epoch: 23 Losses: {'spancat': 8603.444481174229}\n"
     ]
    },
    {
     "name": "stderr",
     "output_type": "stream",
     "text": [
      "\r",
      " 83%|█████████████████████████████████▎      | 25/30 [1:37:34<19:34, 234.95s/it]"
     ]
    },
    {
     "name": "stdout",
     "output_type": "stream",
     "text": [
      "epoch: 24 Losses: {'spancat': 8482.731262199755}\n"
     ]
    },
    {
     "name": "stderr",
     "output_type": "stream",
     "text": [
      "\r",
      " 87%|██████████████████████████████████▋     | 26/30 [1:41:31<15:42, 235.66s/it]"
     ]
    },
    {
     "name": "stdout",
     "output_type": "stream",
     "text": [
      "epoch: 25 Losses: {'spancat': 8357.392183293312}\n"
     ]
    },
    {
     "name": "stderr",
     "output_type": "stream",
     "text": [
      "\r",
      " 90%|████████████████████████████████████    | 27/30 [1:45:28<11:47, 235.97s/it]"
     ]
    },
    {
     "name": "stdout",
     "output_type": "stream",
     "text": [
      "epoch: 26 Losses: {'spancat': 8203.214589320942}\n"
     ]
    },
    {
     "name": "stderr",
     "output_type": "stream",
     "text": [
      "\r",
      " 93%|█████████████████████████████████████▎  | 28/30 [1:49:22<07:50, 235.34s/it]"
     ]
    },
    {
     "name": "stdout",
     "output_type": "stream",
     "text": [
      "epoch: 27 Losses: {'spancat': 8110.240328924367}\n"
     ]
    },
    {
     "name": "stderr",
     "output_type": "stream",
     "text": [
      "\r",
      " 97%|██████████████████████████████████████▋ | 29/30 [1:53:20<03:56, 236.25s/it]"
     ]
    },
    {
     "name": "stdout",
     "output_type": "stream",
     "text": [
      "epoch: 28 Losses: {'spancat': 8024.647758835301}\n"
     ]
    },
    {
     "name": "stderr",
     "output_type": "stream",
     "text": [
      "100%|████████████████████████████████████████| 30/30 [1:57:17<00:00, 234.57s/it]"
     ]
    },
    {
     "name": "stdout",
     "output_type": "stream",
     "text": [
      "epoch: 29 Losses: {'spancat': 7984.9958213473}\n"
     ]
    },
    {
     "name": "stderr",
     "output_type": "stream",
     "text": [
      "\n"
     ]
    }
   ],
   "source": [
    "#start training the spancat component \n",
    "all_losses = []\n",
    "with nlp.disable_pipes(*unaffected_pipes):\n",
    "    for iteration in tqdm(range(30)):\n",
    "        # shuffling examples before every iteration\n",
    "        random.shuffle(train_data)\n",
    "        losses = {}\n",
    "        batches = minibatch(train_data, size=compounding(4.0, 32.0, 1.001))\n",
    "        for batch in batches:\n",
    "            nlp.update(list(batch), losses=losses, drop=0.1, sgd=sgd)\n",
    "        print(\"epoch: {} Losses: {}\".format(iteration, str(losses)))\n",
    "        all_losses.append(losses['spancat'])"
   ]
  },
  {
   "cell_type": "markdown",
   "id": "7a090ac6",
   "metadata": {},
   "source": [
    "We can investigate the losses by printing all_losses:"
   ]
  },
  {
   "cell_type": "code",
   "execution_count": 13,
   "id": "6c72febb",
   "metadata": {},
   "outputs": [
    {
     "name": "stdout",
     "output_type": "stream",
     "text": [
      "23819.832373756915\n",
      "17845.14417686942\n",
      "16125.311203195335\n",
      "14996.864675723875\n",
      "14163.882134490937\n",
      "13418.770895299465\n",
      "12951.496103297977\n",
      "12407.294817013433\n",
      "11920.983098373748\n",
      "11526.122606375488\n",
      "11231.918217996834\n",
      "10934.958683155586\n",
      "10697.222331435423\n",
      "10371.370365341427\n",
      "10129.045628480642\n",
      "9980.203197981959\n",
      "9721.756982092862\n",
      "9501.349641645858\n",
      "9318.827465295537\n",
      "9166.11591950753\n",
      "9001.56578258684\n",
      "8874.431672896259\n",
      "8765.872489455149\n",
      "8603.444481174229\n",
      "8482.731262199755\n",
      "8357.392183293312\n",
      "8203.214589320942\n",
      "8110.240328924367\n",
      "8024.647758835301\n",
      "7984.9958213473\n"
     ]
    }
   ],
   "source": [
    "for loss in all_losses:\n",
    "    print(loss)"
   ]
  },
  {
   "cell_type": "markdown",
   "id": "c16b578e",
   "metadata": {},
   "source": [
    "#### 4. Apply the custom trained spancat model \n",
    "\n",
    "Now that we've trained our model, lets apply it to a sentence in yesterday's news article on Lizz truss and see what spans it predicts as people, organisations and locations. "
   ]
  },
  {
   "cell_type": "code",
   "execution_count": 17,
   "id": "409c4018",
   "metadata": {},
   "outputs": [],
   "source": [
    "# Testing the model on sentence from the BBC news article yesterday\n",
    "text = \"Yes, Liz Truss would deliver the governments 2050 net zero target in the United Kingdom, but the prime minister also restated her determination to issue more oil and gas licences in the North Sea.\"\n",
    "doc = nlp(text)"
   ]
  },
  {
   "cell_type": "markdown",
   "id": "987796de",
   "metadata": {},
   "source": [
    "We're able to print the predicted spans and span-level confidence scores"
   ]
  },
  {
   "cell_type": "code",
   "execution_count": 18,
   "id": "91b4fbcc",
   "metadata": {},
   "outputs": [
    {
     "name": "stdout",
     "output_type": "stream",
     "text": [
      "PER 0.9284754\n",
      "GEO 0.98638225\n",
      "GEO 0.98024577\n"
     ]
    }
   ],
   "source": [
    "#print predicted spans and entity level scores\n",
    "spans = doc.spans[span_key]\n",
    "for span, confidence in zip(spans, spans.attrs[\"scores\"]):\n",
    "    print(span.label_, confidence)"
   ]
  },
  {
   "cell_type": "markdown",
   "id": "ffa8c1e6",
   "metadata": {},
   "source": [
    "Finally, we can use spaCy's `displacy` to show the predicted spans in the text."
   ]
  },
  {
   "cell_type": "code",
   "execution_count": 19,
   "id": "4d60887c",
   "metadata": {},
   "outputs": [
    {
     "data": {
      "text/html": [
       "<span class=\"tex2jax_ignore\"><div class=\"spans\" style=\"line-height: 2.5; direction: ltr\">Yes , \n",
       "<span style=\"font-weight: bold; display: inline-block; position: relative; height: 60px;\">\n",
       "    Liz\n",
       "    \n",
       "<span style=\"background: #ddd; top: 40px; height: 4px; left: -1px; width: calc(100% + 2px); position: absolute;\">\n",
       "</span>\n",
       "\n",
       "    \n",
       "<span style=\"background: #ddd; top: 40px; height: 4px; border-top-left-radius: 3px; border-bottom-left-radius: 3px; left: -1px; width: calc(100% + 2px); position: absolute;\">\n",
       "    <span style=\"background: #ddd; z-index: 10; color: #000; top: -0.5em; padding: 2px 3px; position: absolute; font-size: 0.6em; font-weight: bold; line-height: 1; border-radius: 3px\">\n",
       "        PER\n",
       "    </span>\n",
       "</span>\n",
       "\n",
       "\n",
       "</span>\n",
       "\n",
       "<span style=\"font-weight: bold; display: inline-block; position: relative; height: 60px;\">\n",
       "    Truss\n",
       "    \n",
       "<span style=\"background: #ddd; top: 40px; height: 4px; left: -1px; width: calc(100% + 2px); position: absolute;\">\n",
       "</span>\n",
       "\n",
       "    \n",
       "</span>\n",
       "would deliver the governments 2050 net zero target in the \n",
       "<span style=\"font-weight: bold; display: inline-block; position: relative; height: 60px;\">\n",
       "    United\n",
       "    \n",
       "<span style=\"background: #ddd; top: 40px; height: 4px; left: -1px; width: calc(100% + 2px); position: absolute;\">\n",
       "</span>\n",
       "\n",
       "    \n",
       "<span style=\"background: #ddd; top: 40px; height: 4px; border-top-left-radius: 3px; border-bottom-left-radius: 3px; left: -1px; width: calc(100% + 2px); position: absolute;\">\n",
       "    <span style=\"background: #ddd; z-index: 10; color: #000; top: -0.5em; padding: 2px 3px; position: absolute; font-size: 0.6em; font-weight: bold; line-height: 1; border-radius: 3px\">\n",
       "        GEO\n",
       "    </span>\n",
       "</span>\n",
       "\n",
       "\n",
       "</span>\n",
       "\n",
       "<span style=\"font-weight: bold; display: inline-block; position: relative; height: 60px;\">\n",
       "    Kingdom\n",
       "    \n",
       "<span style=\"background: #ddd; top: 40px; height: 4px; left: -1px; width: calc(100% + 2px); position: absolute;\">\n",
       "</span>\n",
       "\n",
       "    \n",
       "</span>\n",
       ", but the prime minister also restated her determination to issue more oil and gas licences in the \n",
       "<span style=\"font-weight: bold; display: inline-block; position: relative; height: 60px;\">\n",
       "    North\n",
       "    \n",
       "<span style=\"background: #ddd; top: 40px; height: 4px; left: -1px; width: calc(100% + 2px); position: absolute;\">\n",
       "</span>\n",
       "\n",
       "    \n",
       "<span style=\"background: #ddd; top: 40px; height: 4px; border-top-left-radius: 3px; border-bottom-left-radius: 3px; left: -1px; width: calc(100% + 2px); position: absolute;\">\n",
       "    <span style=\"background: #ddd; z-index: 10; color: #000; top: -0.5em; padding: 2px 3px; position: absolute; font-size: 0.6em; font-weight: bold; line-height: 1; border-radius: 3px\">\n",
       "        GEO\n",
       "    </span>\n",
       "</span>\n",
       "\n",
       "\n",
       "</span>\n",
       "\n",
       "<span style=\"font-weight: bold; display: inline-block; position: relative; height: 60px;\">\n",
       "    Sea\n",
       "    \n",
       "<span style=\"background: #ddd; top: 40px; height: 4px; left: -1px; width: calc(100% + 2px); position: absolute;\">\n",
       "</span>\n",
       "\n",
       "    \n",
       "</span>\n",
       ". </div></span>"
      ],
      "text/plain": [
       "<IPython.core.display.HTML object>"
      ]
     },
     "metadata": {},
     "output_type": "display_data"
    }
   ],
   "source": [
    "#show predicted spans \n",
    "displacy.render(doc, style=\"span\")"
   ]
  },
  {
   "cell_type": "markdown",
   "id": "c47b333a",
   "metadata": {},
   "source": [
    "And that's that! If you'd like to learn more about the spancat architecture 🏗️ and a bit more detail about the code, do refer back to the medium article. This is purely demonstrative so we're not evaluating the model, tuning hyperparameters, playing around with the suggester or using a spans-specific dataset.  "
   ]
  }
 ],
 "metadata": {
  "kernelspec": {
   "display_name": "spancat_training",
   "language": "python",
   "name": "spancat_training"
  },
  "language_info": {
   "codemirror_mode": {
    "name": "ipython",
    "version": 3
   },
   "file_extension": ".py",
   "mimetype": "text/x-python",
   "name": "python",
   "nbconvert_exporter": "python",
   "pygments_lexer": "ipython3",
   "version": "3.9.12"
  }
 },
 "nbformat": 4,
 "nbformat_minor": 5
}
